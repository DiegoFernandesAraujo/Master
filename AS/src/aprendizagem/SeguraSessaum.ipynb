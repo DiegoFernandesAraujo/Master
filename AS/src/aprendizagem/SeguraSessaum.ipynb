{
 "cells": [
  {
   "cell_type": "code",
   "execution_count": null,
   "metadata": {},
   "outputs": [],
   "source": [
    "import datetime\n",
    "import os, errno\n",
    "\n",
    "# now = datetime.datetime.now()\n",
    "# minuto = now.minute\n",
    "# while(True):\n",
    "#     now = datetime.datetime.now()\n",
    "#     if(now.minute != minuto):\n",
    "#         print(\"now.minute: {0} - minuto: {1}\".format(now.minute, minuto))\n",
    "#         minuto = now.minute\n",
    "\n",
    "logLop = './log-loop.txt'\n",
    "        \n",
    "now = datetime.datetime.now()\n",
    "minuto = now.minute\n",
    "hora = now.hour\n",
    "\n",
    "if minuto + 10 > 60:\n",
    "    minuto = minuto + 10 - 60\n",
    "    \n",
    "print(\"Minuto inicial: {0}\".format(str(minuto)))    \n",
    "\n",
    "with open(logLop, 'a+') as arqLogLop:\n",
    "    arqLogLop.write(\"Minuto inicial: {0}\".format(str(minuto)))\n",
    "    arqLogLop.write('\\n')\n",
    "\n",
    "while(True):\n",
    "    now = datetime.datetime.now()\n",
    "    \n",
    "    \n",
    "    if(now.minute >= minuto+10):\n",
    "        print(\"now.minute: {0} - minuto: {1}\".format(now.minute, minuto))\n",
    "        minuto = now.minute\n",
    "        \n",
    "        with open(logLop, 'a+') as arqLogLop:\n",
    "            arqLogLop.write(str(minuto))\n",
    "            arqLogLop.write('\\n')\n",
    "            \n",
    "    elif(now.hour > hora):\n",
    "        minuto = minuto + 10 - 60\n",
    "        hora = now.hour\n",
    "        "
   ]
  },
  {
   "cell_type": "code",
   "execution_count": null,
   "metadata": {},
   "outputs": [],
   "source": []
  }
 ],
 "metadata": {
  "kernelspec": {
   "display_name": "Python 3",
   "language": "python",
   "name": "python3"
  },
  "language_info": {
   "codemirror_mode": {
    "name": "ipython",
    "version": 3
   },
   "file_extension": ".py",
   "mimetype": "text/x-python",
   "name": "python",
   "nbconvert_exporter": "python",
   "pygments_lexer": "ipython3",
   "version": "3.6.3"
  }
 },
 "nbformat": 4,
 "nbformat_minor": 2
}
